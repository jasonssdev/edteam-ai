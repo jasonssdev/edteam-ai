{
 "cells": [
  {
   "cell_type": "code",
   "execution_count": 1,
   "metadata": {},
   "outputs": [],
   "source": [
    "from openai import OpenAI\n",
    "from dotenv import load_dotenv\n",
    "import os\n",
    "import langchain\n",
    "import gradio\n",
    "import llama_index\n",
    "\n"
   ]
  },
  {
   "cell_type": "code",
   "execution_count": 2,
   "metadata": {},
   "outputs": [],
   "source": [
    "\n",
    "# load environment variables\n",
    "load_dotenv()\n",
    "OAI_API_KEY = os.getenv(\"openai_api_edt\")\n",
    "OAI_ORGANIZATION = os.getenv(\"openai_organization\")\n",
    "OAI_PROJECT = os.getenv(\"openai_project\")\n"
   ]
  },
  {
   "cell_type": "code",
   "execution_count": 3,
   "metadata": {},
   "outputs": [],
   "source": [
    "client = OpenAI(api_key=OAI_API_KEY, organization=OAI_ORGANIZATION, project=OAI_PROJECT)"
   ]
  },
  {
   "cell_type": "code",
   "execution_count": 4,
   "metadata": {},
   "outputs": [],
   "source": [
    "response = client.chat.completions.create(\n",
    "    model=\"gpt-4o-mini\",\n",
    "    messages=[{\n",
    "        \"role\": \"system\",\n",
    "        \"content\": \"You are an assistence\",\n",
    "    }, {\n",
    "        \"role\": \"user\",\n",
    "        \"content\": \"What is ChatGPT\"\n",
    "    }],\n",
    "    max_tokens=2048,\n",
    ")"
   ]
  },
  {
   "cell_type": "code",
   "execution_count": 5,
   "metadata": {},
   "outputs": [
    {
     "name": "stdout",
     "output_type": "stream",
     "text": [
      "ChatGPT is an AI language model developed by OpenAI. It is designed to understand and generate human-like text based on the input it receives. Utilizing a transformer architecture, ChatGPT can perform a variety of language-related tasks, such as answering questions, engaging in conversation, providing explanations, generating creative writing, and more. \n",
      "\n",
      "Trained on a diverse dataset, ChatGPT is capable of understanding context, maintaining coherence in dialogue, and adapting its responses to different prompts. It serves as a tool for various applications, including customer support, content creation, educational assistance, and more. However, it is important to note that while ChatGPT can provide informative and relevant responses, it does not possess consciousness or real-world understanding; its responses are generated based on patterns in the data it has been trained on.\n"
     ]
    }
   ],
   "source": [
    "print(response.choices[0].message.content)"
   ]
  },
  {
   "cell_type": "code",
   "execution_count": null,
   "metadata": {},
   "outputs": [],
   "source": []
  }
 ],
 "metadata": {
  "kernelspec": {
   "display_name": ".venv",
   "language": "python",
   "name": "python3"
  },
  "language_info": {
   "codemirror_mode": {
    "name": "ipython",
    "version": 3
   },
   "file_extension": ".py",
   "mimetype": "text/x-python",
   "name": "python",
   "nbconvert_exporter": "python",
   "pygments_lexer": "ipython3",
   "version": "3.12.5"
  }
 },
 "nbformat": 4,
 "nbformat_minor": 2
}
